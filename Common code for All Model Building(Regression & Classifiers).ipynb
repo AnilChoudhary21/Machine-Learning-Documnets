{
 "cells": [
  {
   "cell_type": "code",
   "execution_count": 121,
   "metadata": {},
   "outputs": [],
   "source": [
    "import numpy as np\n",
    "import pandas as pd\n",
    "import warnings\n",
    "from sklearn.metrics import confusion_matrix,mean_absolute_error,mean_squared_error,accuracy_score\n",
    "from sklearn.ensemble import RandomForestClassifier,RandomForestRegressor,BaggingClassifier,BaggingRegressor\n",
    "from sklearn.tree import DecisionTreeClassifier,DecisionTreeRegressor\n",
    "from sklearn.linear_model import LinearRegression\n",
    "from sklearn.neighbors import KNeighborsRegressor"
   ]
  },
  {
   "cell_type": "code",
   "execution_count": 122,
   "metadata": {},
   "outputs": [],
   "source": [
    "d=np.random.randint(0,10,(20,10))\n",
    "d.shape\n",
    "x=d[:,0:9]\n",
    "y=d[:,9]"
   ]
  },
  {
   "cell_type": "code",
   "execution_count": 123,
   "metadata": {},
   "outputs": [
    {
     "data": {
      "text/plain": [
       "((16, 9), (4, 9), (16,), (4,))"
      ]
     },
     "execution_count": 123,
     "metadata": {},
     "output_type": "execute_result"
    }
   ],
   "source": [
    "from sklearn.model_selection import train_test_split\n",
    "X_train,X_test,y_train,y_test= train_test_split(x,y,test_size=0.2,random_state=0)\n",
    "\n",
    "\n",
    "X_train.shape,X_test.shape,y_train.shape,y_test.shape"
   ]
  },
  {
   "cell_type": "code",
   "execution_count": 124,
   "metadata": {
    "code_folding": []
   },
   "outputs": [],
   "source": [
    "def model_output(X_train,X_test,y_train,y_test,algo):\n",
    "    if 'Regress' in str(algo) :\n",
    "        model=algo\n",
    "        model.fit(X_train, y_train)\n",
    "        model.predict(X_test)\n",
    "        ##Validating the models\n",
    "        mae=mean_absolute_error(y_test,model.predict(X_test))\n",
    "        mse=mean_squared_error(y_test,model.predict(X_test))\n",
    "        rmse=np.sqrt(mse)\n",
    "        mape=abs(((y_test-model.predict(X_test))/(y_test))).sum()\n",
    "        mape=(mape*100)/y_test.shape[0]\n",
    "        return mae,mse,rmse,mape\n",
    "    else:\n",
    "        model=algo\n",
    "        model.fit(X_train, y_train)\n",
    "        model.predict(X_test)\n",
    "        pred=model.predict(X_test)\n",
    "        #### Validating the models (actual, predicted)\n",
    "        cm=confusion_matrix(y_test,model.predict(X_test))\n",
    "        tn, fp, fn, tp=confusion_matrix(y_test,pred).ravel()\n",
    "        acs=accuracy_score(y_test,model.predict(X_test))\n",
    "        print(\"confusion matrix\")\n",
    "        print(cm)\n",
    "        print(\"tn,fp,fn,tp\")\n",
    "        print(tn,fp,fn,tp)\n",
    "        print(\"accuracy score\")\n",
    "        print(acs)\n",
    "        return tn, fp, fn, tp\n",
    "        \n",
    "    "
   ]
  },
  {
   "cell_type": "code",
   "execution_count": 125,
   "metadata": {},
   "outputs": [],
   "source": [
    "algos = [DecisionTreeRegressor(),RandomForestRegressor(),BaggingRegressor(),KNeighborsRegressor(),LinearRegression()]"
   ]
  },
  {
   "cell_type": "code",
   "execution_count": 126,
   "metadata": {},
   "outputs": [
    {
     "data": {
      "text/plain": [
       "[(2.25, 10.25, 3.2015621187164243, 131.25),\n",
       " (2.0975, 5.605124999999999, 2.367514519490852, 121.47916666666667),\n",
       " (2.0999999999999996,\n",
       "  5.034999999999999,\n",
       "  2.2438805672316873,\n",
       "  104.16666666666667),\n",
       " (1.7999999999999998,\n",
       "  5.3999999999999995,\n",
       "  2.32379000772445,\n",
       "  132.91666666666666),\n",
       " (3.5901017536011834,\n",
       "  15.552716952168677,\n",
       "  3.943693313655193,\n",
       "  148.9501414940905)]"
      ]
     },
     "execution_count": 126,
     "metadata": {},
     "output_type": "execute_result"
    }
   ],
   "source": [
    "validation=[]\n",
    "for i in algos:\n",
    "    validation.append(model_output(X_train, X_test, y_train, y_test,i))\n",
    "validation"
   ]
  },
  {
   "cell_type": "code",
   "execution_count": 127,
   "metadata": {},
   "outputs": [
    {
     "data": {
      "text/html": [
       "<div>\n",
       "<style scoped>\n",
       "    .dataframe tbody tr th:only-of-type {\n",
       "        vertical-align: middle;\n",
       "    }\n",
       "\n",
       "    .dataframe tbody tr th {\n",
       "        vertical-align: top;\n",
       "    }\n",
       "\n",
       "    .dataframe thead th {\n",
       "        text-align: right;\n",
       "    }\n",
       "</style>\n",
       "<table border=\"1\" class=\"dataframe\">\n",
       "  <thead>\n",
       "    <tr style=\"text-align: right;\">\n",
       "      <th></th>\n",
       "      <th>mae</th>\n",
       "      <th>mse</th>\n",
       "      <th>rmse</th>\n",
       "      <th>mape</th>\n",
       "    </tr>\n",
       "  </thead>\n",
       "  <tbody>\n",
       "    <tr>\n",
       "      <th>DecisionTreeRegressor</th>\n",
       "      <td>2.250000</td>\n",
       "      <td>10.250000</td>\n",
       "      <td>3.201562</td>\n",
       "      <td>131.250000</td>\n",
       "    </tr>\n",
       "    <tr>\n",
       "      <th>RandomForestRegressor</th>\n",
       "      <td>2.097500</td>\n",
       "      <td>5.605125</td>\n",
       "      <td>2.367515</td>\n",
       "      <td>121.479167</td>\n",
       "    </tr>\n",
       "    <tr>\n",
       "      <th>BaggingRegressor</th>\n",
       "      <td>2.100000</td>\n",
       "      <td>5.035000</td>\n",
       "      <td>2.243881</td>\n",
       "      <td>104.166667</td>\n",
       "    </tr>\n",
       "    <tr>\n",
       "      <th>KNeighborsRegressor</th>\n",
       "      <td>1.800000</td>\n",
       "      <td>5.400000</td>\n",
       "      <td>2.323790</td>\n",
       "      <td>132.916667</td>\n",
       "    </tr>\n",
       "    <tr>\n",
       "      <th>LinearRegression</th>\n",
       "      <td>3.590102</td>\n",
       "      <td>15.552717</td>\n",
       "      <td>3.943693</td>\n",
       "      <td>148.950141</td>\n",
       "    </tr>\n",
       "  </tbody>\n",
       "</table>\n",
       "</div>"
      ],
      "text/plain": [
       "                            mae        mse      rmse        mape\n",
       "DecisionTreeRegressor  2.250000  10.250000  3.201562  131.250000\n",
       "RandomForestRegressor  2.097500   5.605125  2.367515  121.479167\n",
       "BaggingRegressor       2.100000   5.035000  2.243881  104.166667\n",
       "KNeighborsRegressor    1.800000   5.400000  2.323790  132.916667\n",
       "LinearRegression       3.590102  15.552717  3.943693  148.950141"
      ]
     },
     "execution_count": 127,
     "metadata": {},
     "output_type": "execute_result"
    }
   ],
   "source": [
    "validation=pd.DataFrame(validation)\n",
    "validation.columns=['mae','mse','rmse','mape']\n",
    "validation.index=['DecisionTreeRegressor','RandomForestRegressor','BaggingRegressor','KNeighborsRegressor','LinearRegression']\n",
    "\n",
    "validation"
   ]
  },
  {
   "cell_type": "code",
   "execution_count": null,
   "metadata": {},
   "outputs": [],
   "source": []
  },
  {
   "cell_type": "code",
   "execution_count": null,
   "metadata": {},
   "outputs": [],
   "source": []
  },
  {
   "cell_type": "code",
   "execution_count": null,
   "metadata": {},
   "outputs": [],
   "source": []
  },
  {
   "cell_type": "code",
   "execution_count": 128,
   "metadata": {},
   "outputs": [],
   "source": [
    "data=np.random.randint(0,10,(100,10))"
   ]
  },
  {
   "cell_type": "code",
   "execution_count": 135,
   "metadata": {},
   "outputs": [
    {
     "data": {
      "text/plain": [
       "((100, 9), (100,))"
      ]
     },
     "execution_count": 135,
     "metadata": {},
     "output_type": "execute_result"
    }
   ],
   "source": [
    "x=data[:,0:9]\n",
    "y=data[:,9]\n",
    "x.shape,y.shape"
   ]
  },
  {
   "cell_type": "code",
   "execution_count": 136,
   "metadata": {},
   "outputs": [],
   "source": [
    "from sklearn.model_selection import train_test_split\n",
    "x_train,x_test,y_train,y_test=train_test_split(x,y,test_size=0.2,random_state=0)"
   ]
  },
  {
   "cell_type": "code",
   "execution_count": 141,
   "metadata": {},
   "outputs": [
    {
     "data": {
      "text/plain": [
       "((80, 9), (20, 9), (80,), (20,))"
      ]
     },
     "execution_count": 141,
     "metadata": {},
     "output_type": "execute_result"
    }
   ],
   "source": [
    "x_train.shape,x_test.shape,y_train.shape,y_test.shape"
   ]
  },
  {
   "cell_type": "code",
   "execution_count": 142,
   "metadata": {},
   "outputs": [],
   "source": [
    "def model_output(x_train,x_test,y_train,y_test,algo):\n",
    "    if \"Regress\" in str(algo):\n",
    "        model=algo()\n",
    "        model.fit(x_train,y_train)\n",
    "        model.predict(x_test)\n",
    "        mae=mean_absolute_error(y_test,model.predict(x_test))\n",
    "        return mae\n",
    "        "
   ]
  },
  {
   "cell_type": "code",
   "execution_count": 143,
   "metadata": {},
   "outputs": [
    {
     "data": {
      "text/plain": [
       "3.9"
      ]
     },
     "execution_count": 143,
     "metadata": {},
     "output_type": "execute_result"
    }
   ],
   "source": [
    "model_output(x_train,x_test,y_train,y_test,DecisionTreeRegressor)"
   ]
  },
  {
   "cell_type": "code",
   "execution_count": null,
   "metadata": {},
   "outputs": [],
   "source": []
  },
  {
   "cell_type": "code",
   "execution_count": null,
   "metadata": {},
   "outputs": [],
   "source": []
  },
  {
   "cell_type": "code",
   "execution_count": null,
   "metadata": {},
   "outputs": [],
   "source": []
  },
  {
   "cell_type": "code",
   "execution_count": null,
   "metadata": {},
   "outputs": [],
   "source": []
  },
  {
   "cell_type": "code",
   "execution_count": null,
   "metadata": {},
   "outputs": [],
   "source": []
  }
 ],
 "metadata": {
  "hide_input": false,
  "kernelspec": {
   "display_name": "Python 3",
   "language": "python",
   "name": "python3"
  },
  "language_info": {
   "codemirror_mode": {
    "name": "ipython",
    "version": 3
   },
   "file_extension": ".py",
   "mimetype": "text/x-python",
   "name": "python",
   "nbconvert_exporter": "python",
   "pygments_lexer": "ipython3",
   "version": "3.7.6"
  },
  "toc": {
   "base_numbering": 1,
   "nav_menu": {},
   "number_sections": true,
   "sideBar": true,
   "skip_h1_title": false,
   "title_cell": "Table of Contents",
   "title_sidebar": "Contents",
   "toc_cell": false,
   "toc_position": {},
   "toc_section_display": true,
   "toc_window_display": false
  }
 },
 "nbformat": 4,
 "nbformat_minor": 4
}
