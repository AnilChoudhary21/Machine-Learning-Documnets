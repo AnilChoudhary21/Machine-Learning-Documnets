{
 "cells": [
  {
   "cell_type": "code",
   "execution_count": null,
   "metadata": {},
   "outputs": [],
   "source": [
    "#### KNN Regression"
   ]
  },
  {
   "cell_type": "code",
   "execution_count": 97,
   "metadata": {},
   "outputs": [],
   "source": [
    "import pandas as pd\n",
    "import numpy as np"
   ]
  },
  {
   "cell_type": "code",
   "execution_count": 98,
   "metadata": {},
   "outputs": [],
   "source": [
    "\n",
    "columns1=['x'+str(i) for i in range(1,21)] ## List Comprehension\n",
    "columns1[19]='y'"
   ]
  },
  {
   "cell_type": "code",
   "execution_count": 99,
   "metadata": {},
   "outputs": [
    {
     "data": {
      "text/plain": [
       "['x1',\n",
       " 'x2',\n",
       " 'x3',\n",
       " 'x4',\n",
       " 'x5',\n",
       " 'x6',\n",
       " 'x7',\n",
       " 'x8',\n",
       " 'x9',\n",
       " 'x10',\n",
       " 'x11',\n",
       " 'x12',\n",
       " 'x13',\n",
       " 'x14',\n",
       " 'x15',\n",
       " 'x16',\n",
       " 'x17',\n",
       " 'x18',\n",
       " 'x19',\n",
       " 'y']"
      ]
     },
     "execution_count": 99,
     "metadata": {},
     "output_type": "execute_result"
    }
   ],
   "source": [
    "columns1"
   ]
  },
  {
   "cell_type": "code",
   "execution_count": 100,
   "metadata": {
    "scrolled": true
   },
   "outputs": [],
   "source": [
    "df=pd.DataFrame(np.random.randint(0,1000,(100,20)),columns=columns1)"
   ]
  },
  {
   "cell_type": "code",
   "execution_count": 121,
   "metadata": {},
   "outputs": [
    {
     "data": {
      "text/plain": [
       "(100, 20)"
      ]
     },
     "execution_count": 121,
     "metadata": {},
     "output_type": "execute_result"
    }
   ],
   "source": [
    "df.shape"
   ]
  },
  {
   "cell_type": "code",
   "execution_count": 101,
   "metadata": {},
   "outputs": [],
   "source": [
    "y=df['y']\n",
    "x=df.drop('y',axis=1)"
   ]
  },
  {
   "cell_type": "code",
   "execution_count": 122,
   "metadata": {},
   "outputs": [
    {
     "data": {
      "text/html": [
       "<div>\n",
       "<style scoped>\n",
       "    .dataframe tbody tr th:only-of-type {\n",
       "        vertical-align: middle;\n",
       "    }\n",
       "\n",
       "    .dataframe tbody tr th {\n",
       "        vertical-align: top;\n",
       "    }\n",
       "\n",
       "    .dataframe thead th {\n",
       "        text-align: right;\n",
       "    }\n",
       "</style>\n",
       "<table border=\"1\" class=\"dataframe\">\n",
       "  <thead>\n",
       "    <tr style=\"text-align: right;\">\n",
       "      <th></th>\n",
       "      <th>x1</th>\n",
       "      <th>x2</th>\n",
       "      <th>x3</th>\n",
       "      <th>x4</th>\n",
       "      <th>x5</th>\n",
       "      <th>x6</th>\n",
       "      <th>x7</th>\n",
       "      <th>x8</th>\n",
       "      <th>x9</th>\n",
       "      <th>x10</th>\n",
       "      <th>x11</th>\n",
       "      <th>x12</th>\n",
       "      <th>x13</th>\n",
       "      <th>x14</th>\n",
       "      <th>x15</th>\n",
       "      <th>x16</th>\n",
       "      <th>x17</th>\n",
       "      <th>x18</th>\n",
       "      <th>x19</th>\n",
       "    </tr>\n",
       "  </thead>\n",
       "  <tbody>\n",
       "    <tr>\n",
       "      <th>0</th>\n",
       "      <td>556</td>\n",
       "      <td>788</td>\n",
       "      <td>204</td>\n",
       "      <td>636</td>\n",
       "      <td>846</td>\n",
       "      <td>683</td>\n",
       "      <td>613</td>\n",
       "      <td>267</td>\n",
       "      <td>44</td>\n",
       "      <td>797</td>\n",
       "      <td>847</td>\n",
       "      <td>566</td>\n",
       "      <td>89</td>\n",
       "      <td>855</td>\n",
       "      <td>847</td>\n",
       "      <td>105</td>\n",
       "      <td>961</td>\n",
       "      <td>903</td>\n",
       "      <td>194</td>\n",
       "    </tr>\n",
       "    <tr>\n",
       "      <th>1</th>\n",
       "      <td>953</td>\n",
       "      <td>268</td>\n",
       "      <td>871</td>\n",
       "      <td>488</td>\n",
       "      <td>808</td>\n",
       "      <td>568</td>\n",
       "      <td>758</td>\n",
       "      <td>443</td>\n",
       "      <td>312</td>\n",
       "      <td>663</td>\n",
       "      <td>546</td>\n",
       "      <td>226</td>\n",
       "      <td>649</td>\n",
       "      <td>29</td>\n",
       "      <td>717</td>\n",
       "      <td>162</td>\n",
       "      <td>828</td>\n",
       "      <td>112</td>\n",
       "      <td>925</td>\n",
       "    </tr>\n",
       "    <tr>\n",
       "      <th>2</th>\n",
       "      <td>786</td>\n",
       "      <td>168</td>\n",
       "      <td>605</td>\n",
       "      <td>233</td>\n",
       "      <td>736</td>\n",
       "      <td>928</td>\n",
       "      <td>807</td>\n",
       "      <td>76</td>\n",
       "      <td>292</td>\n",
       "      <td>530</td>\n",
       "      <td>314</td>\n",
       "      <td>213</td>\n",
       "      <td>595</td>\n",
       "      <td>137</td>\n",
       "      <td>572</td>\n",
       "      <td>419</td>\n",
       "      <td>402</td>\n",
       "      <td>679</td>\n",
       "      <td>76</td>\n",
       "    </tr>\n",
       "    <tr>\n",
       "      <th>3</th>\n",
       "      <td>133</td>\n",
       "      <td>570</td>\n",
       "      <td>800</td>\n",
       "      <td>202</td>\n",
       "      <td>330</td>\n",
       "      <td>71</td>\n",
       "      <td>992</td>\n",
       "      <td>160</td>\n",
       "      <td>859</td>\n",
       "      <td>429</td>\n",
       "      <td>502</td>\n",
       "      <td>884</td>\n",
       "      <td>519</td>\n",
       "      <td>719</td>\n",
       "      <td>543</td>\n",
       "      <td>146</td>\n",
       "      <td>904</td>\n",
       "      <td>654</td>\n",
       "      <td>763</td>\n",
       "    </tr>\n",
       "    <tr>\n",
       "      <th>4</th>\n",
       "      <td>404</td>\n",
       "      <td>134</td>\n",
       "      <td>44</td>\n",
       "      <td>821</td>\n",
       "      <td>952</td>\n",
       "      <td>593</td>\n",
       "      <td>550</td>\n",
       "      <td>226</td>\n",
       "      <td>572</td>\n",
       "      <td>472</td>\n",
       "      <td>636</td>\n",
       "      <td>463</td>\n",
       "      <td>802</td>\n",
       "      <td>890</td>\n",
       "      <td>530</td>\n",
       "      <td>713</td>\n",
       "      <td>238</td>\n",
       "      <td>342</td>\n",
       "      <td>860</td>\n",
       "    </tr>\n",
       "    <tr>\n",
       "      <th>...</th>\n",
       "      <td>...</td>\n",
       "      <td>...</td>\n",
       "      <td>...</td>\n",
       "      <td>...</td>\n",
       "      <td>...</td>\n",
       "      <td>...</td>\n",
       "      <td>...</td>\n",
       "      <td>...</td>\n",
       "      <td>...</td>\n",
       "      <td>...</td>\n",
       "      <td>...</td>\n",
       "      <td>...</td>\n",
       "      <td>...</td>\n",
       "      <td>...</td>\n",
       "      <td>...</td>\n",
       "      <td>...</td>\n",
       "      <td>...</td>\n",
       "      <td>...</td>\n",
       "      <td>...</td>\n",
       "    </tr>\n",
       "    <tr>\n",
       "      <th>95</th>\n",
       "      <td>319</td>\n",
       "      <td>765</td>\n",
       "      <td>665</td>\n",
       "      <td>394</td>\n",
       "      <td>744</td>\n",
       "      <td>126</td>\n",
       "      <td>713</td>\n",
       "      <td>558</td>\n",
       "      <td>545</td>\n",
       "      <td>895</td>\n",
       "      <td>656</td>\n",
       "      <td>741</td>\n",
       "      <td>42</td>\n",
       "      <td>852</td>\n",
       "      <td>247</td>\n",
       "      <td>979</td>\n",
       "      <td>762</td>\n",
       "      <td>552</td>\n",
       "      <td>375</td>\n",
       "    </tr>\n",
       "    <tr>\n",
       "      <th>96</th>\n",
       "      <td>679</td>\n",
       "      <td>985</td>\n",
       "      <td>741</td>\n",
       "      <td>705</td>\n",
       "      <td>717</td>\n",
       "      <td>289</td>\n",
       "      <td>367</td>\n",
       "      <td>97</td>\n",
       "      <td>173</td>\n",
       "      <td>796</td>\n",
       "      <td>695</td>\n",
       "      <td>955</td>\n",
       "      <td>550</td>\n",
       "      <td>959</td>\n",
       "      <td>666</td>\n",
       "      <td>244</td>\n",
       "      <td>463</td>\n",
       "      <td>374</td>\n",
       "      <td>980</td>\n",
       "    </tr>\n",
       "    <tr>\n",
       "      <th>97</th>\n",
       "      <td>95</td>\n",
       "      <td>130</td>\n",
       "      <td>340</td>\n",
       "      <td>966</td>\n",
       "      <td>469</td>\n",
       "      <td>801</td>\n",
       "      <td>906</td>\n",
       "      <td>830</td>\n",
       "      <td>339</td>\n",
       "      <td>620</td>\n",
       "      <td>549</td>\n",
       "      <td>553</td>\n",
       "      <td>749</td>\n",
       "      <td>731</td>\n",
       "      <td>943</td>\n",
       "      <td>281</td>\n",
       "      <td>390</td>\n",
       "      <td>232</td>\n",
       "      <td>617</td>\n",
       "    </tr>\n",
       "    <tr>\n",
       "      <th>98</th>\n",
       "      <td>727</td>\n",
       "      <td>466</td>\n",
       "      <td>299</td>\n",
       "      <td>417</td>\n",
       "      <td>685</td>\n",
       "      <td>945</td>\n",
       "      <td>402</td>\n",
       "      <td>294</td>\n",
       "      <td>262</td>\n",
       "      <td>598</td>\n",
       "      <td>963</td>\n",
       "      <td>849</td>\n",
       "      <td>49</td>\n",
       "      <td>906</td>\n",
       "      <td>732</td>\n",
       "      <td>129</td>\n",
       "      <td>908</td>\n",
       "      <td>8</td>\n",
       "      <td>924</td>\n",
       "    </tr>\n",
       "    <tr>\n",
       "      <th>99</th>\n",
       "      <td>126</td>\n",
       "      <td>785</td>\n",
       "      <td>295</td>\n",
       "      <td>267</td>\n",
       "      <td>448</td>\n",
       "      <td>81</td>\n",
       "      <td>378</td>\n",
       "      <td>144</td>\n",
       "      <td>278</td>\n",
       "      <td>593</td>\n",
       "      <td>805</td>\n",
       "      <td>308</td>\n",
       "      <td>611</td>\n",
       "      <td>802</td>\n",
       "      <td>304</td>\n",
       "      <td>975</td>\n",
       "      <td>252</td>\n",
       "      <td>363</td>\n",
       "      <td>48</td>\n",
       "    </tr>\n",
       "  </tbody>\n",
       "</table>\n",
       "<p>100 rows × 19 columns</p>\n",
       "</div>"
      ],
      "text/plain": [
       "     x1   x2   x3   x4   x5   x6   x7   x8   x9  x10  x11  x12  x13  x14  x15  \\\n",
       "0   556  788  204  636  846  683  613  267   44  797  847  566   89  855  847   \n",
       "1   953  268  871  488  808  568  758  443  312  663  546  226  649   29  717   \n",
       "2   786  168  605  233  736  928  807   76  292  530  314  213  595  137  572   \n",
       "3   133  570  800  202  330   71  992  160  859  429  502  884  519  719  543   \n",
       "4   404  134   44  821  952  593  550  226  572  472  636  463  802  890  530   \n",
       "..  ...  ...  ...  ...  ...  ...  ...  ...  ...  ...  ...  ...  ...  ...  ...   \n",
       "95  319  765  665  394  744  126  713  558  545  895  656  741   42  852  247   \n",
       "96  679  985  741  705  717  289  367   97  173  796  695  955  550  959  666   \n",
       "97   95  130  340  966  469  801  906  830  339  620  549  553  749  731  943   \n",
       "98  727  466  299  417  685  945  402  294  262  598  963  849   49  906  732   \n",
       "99  126  785  295  267  448   81  378  144  278  593  805  308  611  802  304   \n",
       "\n",
       "    x16  x17  x18  x19  \n",
       "0   105  961  903  194  \n",
       "1   162  828  112  925  \n",
       "2   419  402  679   76  \n",
       "3   146  904  654  763  \n",
       "4   713  238  342  860  \n",
       "..  ...  ...  ...  ...  \n",
       "95  979  762  552  375  \n",
       "96  244  463  374  980  \n",
       "97  281  390  232  617  \n",
       "98  129  908    8  924  \n",
       "99  975  252  363   48  \n",
       "\n",
       "[100 rows x 19 columns]"
      ]
     },
     "execution_count": 122,
     "metadata": {},
     "output_type": "execute_result"
    }
   ],
   "source": [
    "x"
   ]
  },
  {
   "cell_type": "code",
   "execution_count": 102,
   "metadata": {},
   "outputs": [],
   "source": [
    "from sklearn.model_selection import train_test_split\n",
    "x_train,x_test,y_train,y_test=train_test_split(x,y,test_size=0.20)"
   ]
  },
  {
   "cell_type": "code",
   "execution_count": 103,
   "metadata": {},
   "outputs": [
    {
     "name": "stdout",
     "output_type": "stream",
     "text": [
      "(80, 19) (20, 19) (80,) (20,)\n"
     ]
    }
   ],
   "source": [
    "print(x_train.shape,x_test.shape,y_train.shape,y_test.shape)"
   ]
  },
  {
   "cell_type": "code",
   "execution_count": 126,
   "metadata": {},
   "outputs": [],
   "source": [
    "distances = []\n",
    "for i in x_test.values:\n",
    "    for j in x_train.values:\n",
    "        distances.append(np.sqrt(((i-j)*(i-j)).sum()))"
   ]
  },
  {
   "cell_type": "code",
   "execution_count": 127,
   "metadata": {},
   "outputs": [
    {
     "data": {
      "text/plain": [
       "1600"
      ]
     },
     "execution_count": 127,
     "metadata": {},
     "output_type": "execute_result"
    }
   ],
   "source": [
    "len(distances)"
   ]
  },
  {
   "cell_type": "code",
   "execution_count": 129,
   "metadata": {},
   "outputs": [
    {
     "data": {
      "text/plain": [
       "array([44, 29,  2, 59, 40, 22,  6, 78, 45,  8, 50, 37, 77, 53, 67, 20, 44,\n",
       "       31, 11, 47], dtype=int64)"
      ]
     },
     "execution_count": 129,
     "metadata": {},
     "output_type": "execute_result"
    }
   ],
   "source": [
    "distances = np.array(distances)\n",
    "distance_matrix = distances.reshape(80,20).T\n",
    "distance_matrix.argmin(axis=1)"
   ]
  },
  {
   "cell_type": "code",
   "execution_count": 133,
   "metadata": {},
   "outputs": [
    {
     "name": "stdout",
     "output_type": "stream",
     "text": [
      "458\n",
      "54\n",
      "493\n",
      "64\n",
      "191\n",
      "26\n",
      "390\n",
      "557\n",
      "529\n",
      "440\n",
      "292\n",
      "950\n",
      "659\n",
      "985\n",
      "128\n",
      "835\n",
      "458\n",
      "347\n",
      "601\n",
      "448\n"
     ]
    }
   ],
   "source": [
    "predicted_values = []\n",
    "for i in distance_matrix.argmin(axis=1):\n",
    "    print(y[i])"
   ]
  },
  {
   "cell_type": "code",
   "execution_count": 134,
   "metadata": {},
   "outputs": [
    {
     "name": "stdout",
     "output_type": "stream",
     "text": [
      "(712, 5) (179, 5) (712,) (179,)\n",
      "\n"
     ]
    }
   ],
   "source": [
    "import seaborn as sns\n",
    "df= sns.load_dataset('titanic')\n",
    "\n",
    "df=df[df.describe().columns]\n",
    "df.fillna(20,inplace=True)\n",
    "\n",
    "\n",
    "df.shape\n",
    "\n",
    "df.head()\n",
    "\n",
    "y=df['fare']\n",
    "x=df.drop('fare',axis=1)\n",
    "\n",
    "from sklearn.model_selection import train_test_split\n",
    "x_train,x_test,y_train,y_test=train_test_split(x,y,test_size=0.20,random_state=42)\n",
    "\n",
    "print(x_train.shape,x_test.shape,y_train.shape,y_test.shape)\n",
    "print()\n"
   ]
  },
  {
   "cell_type": "code",
   "execution_count": 136,
   "metadata": {},
   "outputs": [],
   "source": [
    "from sklearn.neighbors import KNeighborsRegressor\n",
    "kn=KNeighborsRegressor(n_neighbors=1)\n",
    "kn.fit(x_train,y_train)\n",
    "predicted_values=kn.predict(x_test)"
   ]
  },
  {
   "cell_type": "code",
   "execution_count": 144,
   "metadata": {},
   "outputs": [
    {
     "data": {
      "text/plain": [
       "(array([15.7417,  7.75  ,  7.8292, 12.475 , 30.0708, 30.5   ,  7.225 ,\n",
       "        20.25  ,  8.05  , 55.    ]),\n",
       " 709    15.2458\n",
       " 439    10.5000\n",
       " 840     7.9250\n",
       " 720    33.0000\n",
       " 39     11.2417\n",
       " 290    78.8500\n",
       " 300     7.7500\n",
       " 333    18.0000\n",
       " 208     7.7500\n",
       " 136    26.2833\n",
       " Name: fare, dtype: float64)"
      ]
     },
     "execution_count": 144,
     "metadata": {},
     "output_type": "execute_result"
    }
   ],
   "source": [
    "predicted_values[0:10],y_test[0:10]"
   ]
  },
  {
   "cell_type": "code",
   "execution_count": 138,
   "metadata": {
    "scrolled": true
   },
   "outputs": [],
   "source": [
    "MAE=(abs(y_test-predicted_values).sum())/y_test.shape[0]"
   ]
  },
  {
   "cell_type": "code",
   "execution_count": 139,
   "metadata": {},
   "outputs": [
    {
     "data": {
      "text/plain": [
       "19.686963128491623"
      ]
     },
     "execution_count": 139,
     "metadata": {},
     "output_type": "execute_result"
    }
   ],
   "source": [
    "MAE"
   ]
  },
  {
   "cell_type": "code",
   "execution_count": null,
   "metadata": {},
   "outputs": [],
   "source": [
    "#### Confusion Matrix"
   ]
  },
  {
   "cell_type": "code",
   "execution_count": 88,
   "metadata": {},
   "outputs": [],
   "source": [
    "from sklearn.metrics import mean_absolute_error,mean_squared_error"
   ]
  },
  {
   "cell_type": "code",
   "execution_count": 89,
   "metadata": {},
   "outputs": [],
   "source": [
    "from sklearn.metrics import confusion_matrix"
   ]
  },
  {
   "cell_type": "code",
   "execution_count": null,
   "metadata": {},
   "outputs": [],
   "source": []
  },
  {
   "cell_type": "code",
   "execution_count": null,
   "metadata": {},
   "outputs": [],
   "source": []
  },
  {
   "cell_type": "code",
   "execution_count": null,
   "metadata": {},
   "outputs": [],
   "source": []
  },
  {
   "cell_type": "code",
   "execution_count": null,
   "metadata": {},
   "outputs": [],
   "source": []
  },
  {
   "cell_type": "code",
   "execution_count": null,
   "metadata": {},
   "outputs": [],
   "source": []
  },
  {
   "cell_type": "code",
   "execution_count": null,
   "metadata": {},
   "outputs": [],
   "source": []
  },
  {
   "cell_type": "code",
   "execution_count": null,
   "metadata": {},
   "outputs": [],
   "source": []
  },
  {
   "cell_type": "code",
   "execution_count": null,
   "metadata": {},
   "outputs": [],
   "source": []
  }
 ],
 "metadata": {
  "kernelspec": {
   "display_name": "Python 3",
   "language": "python",
   "name": "python3"
  },
  "language_info": {
   "codemirror_mode": {
    "name": "ipython",
    "version": 3
   },
   "file_extension": ".py",
   "mimetype": "text/x-python",
   "name": "python",
   "nbconvert_exporter": "python",
   "pygments_lexer": "ipython3",
   "version": "3.7.6"
  }
 },
 "nbformat": 4,
 "nbformat_minor": 4
}
