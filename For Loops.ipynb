{
 "cells": [
  {
   "cell_type": "code",
   "execution_count": 1,
   "metadata": {},
   "outputs": [],
   "source": [
    "Data = 'I Love Machine Learning'"
   ]
  },
  {
   "cell_type": "code",
   "execution_count": 5,
   "metadata": {},
   "outputs": [
    {
     "name": "stdout",
     "output_type": "stream",
     "text": [
      "I\n",
      "I \n",
      "I L\n",
      "I Lo\n",
      "I Lov\n",
      "I Love\n",
      "I Love \n",
      "I Love M\n",
      "I Love Ma\n",
      "I Love Mac\n",
      "I Love Mach\n",
      "I Love Machi\n",
      "I Love Machin\n",
      "I Love Machine\n",
      "I Love Machine \n",
      "I Love Machine L\n",
      "I Love Machine Le\n",
      "I Love Machine Lea\n",
      "I Love Machine Lear\n",
      "I Love Machine Learn\n",
      "I Love Machine Learni\n",
      "I Love Machine Learnin\n",
      "I Love Machine Learning\n"
     ]
    }
   ],
   "source": [
    "for i in range(0,len(Data)):\n",
    "    print(Data[0:i+1])"
   ]
  },
  {
   "cell_type": "code",
   "execution_count": 17,
   "metadata": {},
   "outputs": [
    {
     "name": "stdout",
     "output_type": "stream",
     "text": [
      "I Love Machine Learning\n",
      "I Love Machine Learning\n",
      "I Love Machine Learning\n",
      "I Love Machine Learning\n",
      "I Love Machine Learning\n",
      "I Love Machine Learning\n",
      "I Love Machine Learning\n",
      "I Love Machine Learning\n",
      "I Love Machine Learning\n",
      "I Love Machine Learning\n"
     ]
    }
   ],
   "source": [
    "i=20\n",
    "while i>10:\n",
    "    print(Data)\n",
    "    i=i-1"
   ]
  },
  {
   "cell_type": "code",
   "execution_count": 30,
   "metadata": {},
   "outputs": [
    {
     "name": "stdout",
     "output_type": "stream",
     "text": [
      "                    \n",
      "          $         \n",
      "         $ $        \n",
      "        $ $ $       \n",
      "       $ $ $ $      \n"
     ]
    }
   ],
   "source": [
    "for i in range(0,5):\n",
    "    x=i*' $'\n",
    "    print(x.center(20,' '))\n"
   ]
  },
  {
   "cell_type": "code",
   "execution_count": 53,
   "metadata": {},
   "outputs": [
    {
     "name": "stdout",
     "output_type": "stream",
     "text": [
      "      # # # # #     \n",
      "       # # # #      \n",
      "        # # #       \n",
      "         # #        \n",
      "          #         \n"
     ]
    }
   ],
   "source": [
    "\n",
    "for i in range(5,0,-1):\n",
    "    x=i*' #'\n",
    "    print(x.center(20,' '))"
   ]
  },
  {
   "cell_type": "code",
   "execution_count": 58,
   "metadata": {},
   "outputs": [
    {
     "name": "stdout",
     "output_type": "stream",
     "text": [
      "                    \n",
      "          ^         \n",
      "         ^ ^        \n",
      "        ^ ^ ^       \n",
      "       ^ ^ ^ ^      \n",
      "      ! ! ! ! !     \n",
      "       ! ! ! !      \n",
      "        ! ! !       \n",
      "         ! !        \n",
      "          !         \n"
     ]
    }
   ],
   "source": [
    "for i in range(0,5):\n",
    "    x=i*\" ^\"\n",
    "    print(x.center(20,' '))\n",
    "for i in range(5,0,-1):\n",
    "    x=i*' !'\n",
    "    print(x.center(20, ' '))"
   ]
  },
  {
   "cell_type": "code",
   "execution_count": 62,
   "metadata": {},
   "outputs": [
    {
     "name": "stdout",
     "output_type": "stream",
     "text": [
      "          $         \n",
      "         $ $        \n",
      "        $ $ $       \n",
      "       $ $ $ $      \n",
      "      $ $ $ $ $     \n",
      "     $ $ $ $ $ $    \n",
      "      $ $ $ $ $     \n",
      "       $ $ $ $      \n",
      "        $ $ $       \n",
      "         $ $        \n",
      "          $         \n"
     ]
    }
   ],
   "source": [
    "for i in range(1,6):\n",
    "    x=i*' $'\n",
    "    print(x.center(20,' '))\n",
    "for i in range(6,0,-1):\n",
    "    x=i*' $'\n",
    "    print(x.center(20, ' '))"
   ]
  },
  {
   "cell_type": "code",
   "execution_count": null,
   "metadata": {},
   "outputs": [],
   "source": []
  }
 ],
 "metadata": {
  "hide_input": false,
  "kernelspec": {
   "display_name": "Python 3",
   "language": "python",
   "name": "python3"
  },
  "language_info": {
   "codemirror_mode": {
    "name": "ipython",
    "version": 3
   },
   "file_extension": ".py",
   "mimetype": "text/x-python",
   "name": "python",
   "nbconvert_exporter": "python",
   "pygments_lexer": "ipython3",
   "version": "3.7.6"
  },
  "toc": {
   "base_numbering": 1,
   "nav_menu": {},
   "number_sections": true,
   "sideBar": true,
   "skip_h1_title": false,
   "title_cell": "Table of Contents",
   "title_sidebar": "Contents",
   "toc_cell": false,
   "toc_position": {},
   "toc_section_display": true,
   "toc_window_display": false
  }
 },
 "nbformat": 4,
 "nbformat_minor": 4
}
